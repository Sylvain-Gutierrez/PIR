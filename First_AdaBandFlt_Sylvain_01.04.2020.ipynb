{
 "cells": [
  {
   "cell_type": "code",
   "execution_count": 2,
   "metadata": {},
   "outputs": [],
   "source": [
    "#import\n",
    "import numpy as np"
   ]
  },
  {
   "cell_type": "code",
   "execution_count": null,
   "metadata": {},
   "outputs": [],
   "source": [
    "#load data"
   ]
  },
  {
   "cell_type": "code",
   "execution_count": null,
   "metadata": {},
   "outputs": [],
   "source": [
    "#threshold\n",
    "\n",
    "def test_valid_window(window):\n",
    "    if np.percentile(window, 2)/np.percentile(window, 30) < 5 : return True\n",
    "    else : return False\n",
    "    \n",
    "\n",
    "def init_noise_levels(signal, fs):\n",
    "    valid_windows = 0\n",
    "    initial_thresholds = []\n",
    "    noise_levels = []\n",
    "\n",
    "    for window in range(0,len(signal),fs/100):\n",
    "        if valid_windows < 100:\n",
    "            test = test_valid_window(signal[window, window + fs/100])\n",
    "        \n",
    "            if test == True :\n",
    "                threshold = np.sqrt(np.mean(signal[window, window + fs/100]**2))\n",
    "                initial_threshold.append(threshold)\n",
    "                valid_windows += 1\n",
    "            \n",
    "            if valid_windows == 100:\n",
    "                noise_level = np.percentile(initial_thresholds, 25)\n",
    "                for elm in range(0, window):\n",
    "                    noise_levels.append(noise_level)\n",
    "                \n",
    "        else :\n",
    "            #ajouter le test valid_window ?\n",
    "            N25 = np.percentile(signal[window, window + fs/100], 25)\n",
    "            noise_level = 0.8*noise_level + 0.2*N25\n",
    "            noise_levels.append(noise_level)\n",
    "        \n",
    "    return noise_levels\n",
    "            "
   ]
  },
  {
   "cell_type": "code",
   "execution_count": 1,
   "metadata": {},
   "outputs": [
    {
     "name": "stdout",
     "output_type": "stream",
     "text": [
      "0\n",
      "1\n",
      "2\n",
      "3\n",
      "4\n",
      "5\n",
      "6\n",
      "7\n",
      "8\n",
      "9\n"
     ]
    }
   ],
   "source": [
    "#find spike\n",
    "\n",
    "def find_spike(signal, initial, noise_levels, fs, spike_centers):\n",
    "    if initial < len(signal):\n",
    "        i = initial\n",
    "        for value in signal[initial:]:\n",
    "            if value > 4*noise_levels[i*100//fs]:\n",
    "                while(True):\n",
    "                    if i > initial + 0.001*fs:\n",
    "                        b_point = i - 0.001*fs\n",
    "                    else :\n",
    "                        b_point = initial\n",
    "                    if i < len(signal)-0.001*fs-1:\n",
    "                        e_point = i + 0.001*fs\n",
    "                    else :\n",
    "                        e_point = len(signal)-1\n",
    "\n",
    "                    highest_value = max(signal[b_point, e_point])\n",
    "\n",
    "                    if highest == value : # && 50% amplitude\n",
    "                        spike_centers.append(i)\n",
    "                        break\n",
    "                    \n",
    "                    else:\n",
    "                        i = signal.index.get_loc(highest)\n",
    "                        value = signal[i]\n",
    "                        \n",
    "                break\n",
    "                find_spike(signal, e_point+1, noise_levels, fs, spike_centers)\n",
    "                    \n",
    "            if value < -4*noise_levels[i*100//fs]:\n",
    "                while(True):\n",
    "                    if i > initial + 0.001*fs:\n",
    "                        b_point = i - 0.001*fs\n",
    "                    else :\n",
    "                        b_point = initial\n",
    "                    if i < len(signal)-0.001*fs-1:\n",
    "                        e_point = i + 0.001*fs\n",
    "                    else :\n",
    "                        e_point = len(signal)-1\n",
    "\n",
    "                    lowest_value = min(signal[b_point, e_point])\n",
    "\n",
    "                    if lowest == value : # && 50% amplitude\n",
    "                        spike_centers.append(i)\n",
    "                        break\n",
    "                    \n",
    "                    else:\n",
    "                        i = signal.index.get_loc(lowest)\n",
    "                        value = signal[i]\n",
    "                        \n",
    "                break\n",
    "                find_spike(signal, e_point+1, noise_levels, fs, spike_centers)\n",
    "                  \n",
    "            i += 1"
   ]
  },
  {
   "cell_type": "code",
   "execution_count": null,
   "metadata": {},
   "outputs": [],
   "source": [
    "#record spike\n",
    "\n",
    "def record_spikes(signal, fs, spike_centers):\n",
    "    data = np.array([x for x in range(fs*0.003+1)])\n",
    "    \n",
    "    for center in spike_centers:\n",
    "        if center < fs*0.001:\n",
    "            spike = [0 for i in range(0, fs*0.001-center)]\n",
    "            spike = np.concatenate(spike, signal[:center + fs*0.002])\n",
    "            np.insert(data, len(data), spike, axis=0)\n",
    "            \n",
    "        else if center > len(signal)-fs*0.002:\n",
    "            spike = signal[center-fs*0.001:]\n",
    "            spike = np.concatenate(spike,[0 for i in range(0, fs*0.002-(len(signal)-center))])\n",
    "            np.insert(data, len(data), spike, axis=0)\n",
    "            \n",
    "        else :\n",
    "            spike = signal[center - fs*0.001: center + fs*0.002]\n",
    "            np.insert(data, len(data), spike, axis=0)\n",
    "            \n",
    "    spike_data = pd.DataFrame(data[:,1:], index = data[:,0], columns=spike_centers)\n",
    "    \n",
    "    return spike_data"
   ]
  },
  {
   "cell_type": "code",
   "execution_count": null,
   "metadata": {},
   "outputs": [],
   "source": [
    "tester get_loc"
   ]
  },
  {
   "cell_type": "code",
   "execution_count": 6,
   "metadata": {},
   "outputs": [
    {
     "data": {
      "text/plain": [
       "array([[1, 1],\n",
       "       [2, 2],\n",
       "       [3, 3]])"
      ]
     },
     "execution_count": 6,
     "metadata": {},
     "output_type": "execute_result"
    }
   ],
   "source": [
    "a = np.array([[1, 1], [2, 2], [3, 3]])\n",
    "a"
   ]
  },
  {
   "cell_type": "code",
   "execution_count": 11,
   "metadata": {},
   "outputs": [
    {
     "data": {
      "text/plain": [
       "array([[1, 1],\n",
       "       [2, 2],\n",
       "       [3, 3],\n",
       "       [1, 5]])"
      ]
     },
     "execution_count": 11,
     "metadata": {},
     "output_type": "execute_result"
    }
   ],
   "source": [
    "np.insert(a, len(a), [1, 5], axis=0)"
   ]
  }
 ],
 "metadata": {
  "kernelspec": {
   "display_name": "Python 3",
   "language": "python",
   "name": "python3"
  },
  "language_info": {
   "codemirror_mode": {
    "name": "ipython",
    "version": 3
   },
   "file_extension": ".py",
   "mimetype": "text/x-python",
   "name": "python",
   "nbconvert_exporter": "python",
   "pygments_lexer": "ipython3",
   "version": "3.7.0"
  }
 },
 "nbformat": 4,
 "nbformat_minor": 2
}
