{
 "cells": [
  {
   "cell_type": "code",
   "execution_count": 1,
   "metadata": {},
   "outputs": [],
   "source": [
    "#import\n",
    "import numpy as np\n",
    "import pandas as pd\n",
    "import matplotlib.pyplot as plt\n",
    "import sys\n",
    "\n",
    "from pandas import DataFrame, read_csv"
   ]
  },
  {
   "cell_type": "code",
   "execution_count": null,
   "metadata": {},
   "outputs": [],
   "source": [
    "#load data\n",
    "# file path of csv file\n",
    "#Location = r'/Users/33614/ExternalDrive/SUPAERO/PIR_2A/Data/data_spikes/E18KABaseline_Bcut.txt'\n",
    "#Location = r'/Users/SYL21/D_Drive/SUPAERO/PIR_2A/Data/data_spikes/E18KABaseline_Bcut.txt'\n",
    "Location = r'/Users/louiseplacidet/Desktop/PIR/Data/data_spikes/E18KABaseline_Bcut.txt'\n",
    "\n",
    "# create dataframe\n",
    "df = pd.read_csv(Location, sep='\\t',skiprows=[0,1,3] , index_col='%t           ')"
   ]
  },
  {
   "cell_type": "code",
   "execution_count": null,
   "metadata": {},
   "outputs": [],
   "source": [
    "#threshold\n",
    "\n",
    "def test_valid_window(window):\n",
    "    \"\"\"\n",
    "    window : the window in the signal that has to be tested\n",
    "    \n",
    "    This funtion test the window to insure that it doesn't contain the signal of interest (spike)\n",
    "    \"\"\"\n",
    "    #non zero ?\n",
    "    if np.percentile(window, 2)/np.percentile(window, 30) < 5 : return True\n",
    "    else : return False\n",
    "    \n",
    "\n",
    "def init_noise_levels(signal, fs, \n",
    "                      noise_window_size = 0.01,\n",
    "                      required_valid_windows = 100,\n",
    "                      old_noise_level_propagation = 0.8):\n",
    "    valid_windows = 0\n",
    "    initial_thresholds = []\n",
    "    noise_levels = []\n",
    "\n",
    "    for window in range(0,len(signal),fs*noise_window_size):\n",
    "        if valid_windows < required_valid_windows:\n",
    "            test = test_valid_window(signal[window, window + fs*noise_window_size])\n",
    "        \n",
    "            if test == True :\n",
    "                threshold = np.sqrt(np.mean(signal[window, window + fs*noise_window_size]**2))\n",
    "                initial_threshold.append(threshold)\n",
    "                valid_windows += 1\n",
    "            \n",
    "            if valid_windows == required_valid_windows:\n",
    "                noise_level = np.percentile(initial_thresholds, 25)\n",
    "                for elm in range(0, window):\n",
    "                    noise_levels.append(noise_level)\n",
    "                \n",
    "        else :\n",
    "            #ajouter le test valid_window ?\n",
    "            N25 = np.percentile(signal[window, window + fs*noise_window_size], 25)\n",
    "            noise_level = old_noise_level_propagation*noise_level + (1-old_noise_level_propagation)*N25\n",
    "            noise_levels.append(noise_level)\n",
    "        \n",
    "    return noise_levels\n",
    "            "
   ]
  },
  {
   "cell_type": "code",
   "execution_count": 1,
   "metadata": {},
   "outputs": [
    {
     "name": "stdout",
     "output_type": "stream",
     "text": [
      "0\n",
      "1\n",
      "2\n",
      "3\n",
      "4\n",
      "5\n",
      "6\n",
      "7\n",
      "8\n",
      "9\n"
     ]
    }
   ],
   "source": [
    "#find spike\n",
    "\n",
    "def find_spike(signal, initial, noise_levels, fs, spike_centers, \n",
    "               window_size = 0.001, \n",
    "               noise_window_size = 0.01,\n",
    "               threshold_factor = 4):\n",
    "    if initial < len(signal):\n",
    "        i = initial\n",
    "        for value in signal[initial:]:\n",
    "            if value > threshold_factor*noise_levels[(i/noise_window_size)//fs]:\n",
    "                while(True):\n",
    "                    if i > initial + window_size*fs:\n",
    "                        b_point = i - window_size*fs\n",
    "                    else :\n",
    "                        b_point = initial\n",
    "                    if i < len(signal)-window_size*fs-1:\n",
    "                        e_point = i + window_size*fs\n",
    "                    else :\n",
    "                        e_point = len(signal)-1\n",
    "\n",
    "                    highest_value = max(signal[b_point, e_point])\n",
    "\n",
    "                    if highest == value : # && 50% amplitude\n",
    "                        spike_centers.append(i)\n",
    "                        break\n",
    "                    \n",
    "                    else:\n",
    "                        #i = signal.index.get_loc(highest)\n",
    "                        i = signal[b_point, e_point].index(max(signal[b_point, e_point]))+b_point\n",
    "                        value = signal[i]\n",
    "                        \n",
    "                break\n",
    "                find_spike(signal, e_point+1, noise_levels, fs, spike_centers)\n",
    "                    \n",
    "            if value < -threshold_factor*noise_levels[(i/noise_window_size)//fs]:\n",
    "                while(True):\n",
    "                    if i > initial + window_size*fs:\n",
    "                        b_point = i - window_size*fs\n",
    "                    else :\n",
    "                        b_point = initial\n",
    "                    if i < len(signal)-window_size*fs-1:\n",
    "                        e_point = i + window_size*fs\n",
    "                    else :\n",
    "                        e_point = len(signal)-1\n",
    "\n",
    "                    lowest_value = min(signal[b_point, e_point])\n",
    "\n",
    "                    if lowest == value : # && 50% amplitude\n",
    "                        spike_centers.append(i)\n",
    "                        break\n",
    "                    \n",
    "                    else:\n",
    "                        #i = signal.index.get_loc(lowest)\n",
    "                        i = signal[b_point, e_point].index(min(signal[b_point, e_point]))+b_point\n",
    "                        value = signal[i]\n",
    "                        \n",
    "                break\n",
    "                find_spike(signal, e_point+1, noise_levels, fs, spike_centers)\n",
    "                  \n",
    "            i += 1"
   ]
  },
  {
   "cell_type": "code",
   "execution_count": null,
   "metadata": {},
   "outputs": [],
   "source": [
    "#record spike\n",
    "\n",
    "def record_spikes(signal, fs, spike_centers, \n",
    "                  t_before = 0.001, \n",
    "                  t_after = 0.002):\n",
    "    data = np.array([x for x in range(fs*(t_before+t_after)+1)])\n",
    "    \n",
    "    for center in spike_centers:\n",
    "        if center < fs*t_before:\n",
    "            spike = [0 for i in range(0, fs*t_before-center)]\n",
    "            spike = np.concatenate(spike, signal[:center + fs*t_after])\n",
    "            np.insert(data, len(data), spike, axis=0)\n",
    "            \n",
    "        else if center > len(signal)-fs*t_after:\n",
    "            spike = signal[center-fs*t_before:]\n",
    "            spike = np.concatenate(spike,[0 for i in range(0, fs*t_after-(len(signal)-center))])\n",
    "            np.insert(data, len(data), spike, axis=0)\n",
    "            \n",
    "        else :\n",
    "            spike = signal[center - fs*t_before: center + fs*t_after]\n",
    "            np.insert(data, len(data), spike, axis=0)\n",
    "            \n",
    "    spike_data = pd.DataFrame(data[:,1:], index = data[:,0], columns=spike_centers)\n",
    "    \n",
    "    return spike_data"
   ]
  },
  {
   "cell_type": "code",
   "execution_count": 7,
   "metadata": {},
   "outputs": [
    {
     "data": {
      "text/plain": [
       "6"
      ]
     },
     "execution_count": 7,
     "metadata": {},
     "output_type": "execute_result"
    }
   ],
   "source": [
    "# test of the functions\n",
    "\n",
    "signal = df.iloc[:,1]\n",
    "fs = 25000\n",
    "\n",
    "noise_levels = init_noise_levels(signal, fs, \n",
    "                      noise_window_size = 0.01,\n",
    "                      required_valid_windows = 100,\n",
    "                      old_noise_level_propagation = 0.8)\n",
    "\n",
    "spike_centers = []\n",
    "\n",
    "find_spike(signal, 0, noise_levels, fs, spike_centers, \n",
    "               window_size = 0.001, \n",
    "               noise_window_size = 0.01,\n",
    "               threshold_factor = 4)\n",
    "\n",
    "spike_data = record_spikes(signal, fs, spike_centers, \n",
    "                  t_before = 0.001, \n",
    "                  t_after = 0.002)"
   ]
  },
  {
   "cell_type": "code",
   "execution_count": null,
   "metadata": {},
   "outputs": [],
   "source": [
    "plt.figure(figsize = (100,20))\n",
    "plt.plot(spike_data.index, spike_data.iloc[:,1])\n",
    "plt.xlabel('Time')\n",
    "plt.grid()"
   ]
  }
 ],
 "metadata": {
  "kernelspec": {
   "display_name": "Python 3",
   "language": "python",
   "name": "python3"
  },
  "language_info": {
   "codemirror_mode": {
    "name": "ipython",
    "version": 3
   },
   "file_extension": ".py",
   "mimetype": "text/x-python",
   "name": "python",
   "nbconvert_exporter": "python",
   "pygments_lexer": "ipython3",
   "version": "3.7.0"
  }
 },
 "nbformat": 4,
 "nbformat_minor": 2
}
